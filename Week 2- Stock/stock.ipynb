{
 "metadata": {
  "language_info": {
   "codemirror_mode": {
    "name": "ipython",
    "version": 3
   },
   "file_extension": ".py",
   "mimetype": "text/x-python",
   "name": "python",
   "nbconvert_exporter": "python",
   "pygments_lexer": "ipython3",
   "version": "3.8.5-final"
  },
  "orig_nbformat": 2,
  "kernelspec": {
   "name": "python3",
   "display_name": "Python 3.8.5 64-bit",
   "metadata": {
    "interpreter": {
     "hash": "2db524e06e9f5f4ffedc911c917cb75e12dbc923643829bf417064a77eb14d37"
    }
   }
  }
 },
 "nbformat": 4,
 "nbformat_minor": 2,
 "cells": [
  {
   "cell_type": "code",
   "execution_count": 1,
   "metadata": {},
   "outputs": [],
   "source": [
    "import quandl as ql \n",
    "import numpy as np \n",
    "import pandas as pd"
   ]
  },
  {
   "cell_type": "code",
   "execution_count": 8,
   "metadata": {},
   "outputs": [],
   "source": [
    "ql.ApiConfig.api_key = 'vQnAV_DTf147BvbsRAdg'\n",
    "apple = ql.get('EOD/AAPL')"
   ]
  },
  {
   "cell_type": "code",
   "execution_count": 9,
   "metadata": {},
   "outputs": [
    {
     "output_type": "execute_result",
     "data": {
      "text/plain": [
       "              Open    High     Low    Close      Volume  Dividend  Split  \\\n",
       "Date                                                                       \n",
       "2013-09-03  493.10  500.60  487.35  488.580  11854600.0       0.0    1.0   \n",
       "2013-09-04  499.56  502.24  496.28  498.691  12322600.0       0.0    1.0   \n",
       "2013-09-05  500.25  500.68  493.64  495.270   8441700.0       0.0    1.0   \n",
       "2013-09-06  498.44  499.38  489.95  498.220  12840200.0       0.0    1.0   \n",
       "2013-09-09  505.00  507.92  503.48  506.170  12167400.0       0.0    1.0   \n",
       "\n",
       "             Adj_Open   Adj_High    Adj_Low  Adj_Close   Adj_Volume  \n",
       "Date                                                                 \n",
       "2013-09-03  15.619650  15.857223  15.437510  15.476472  331928800.0  \n",
       "2013-09-04  15.824280  15.909173  15.720381  15.796753  345032800.0  \n",
       "2013-09-05  15.846136  15.859757  15.636755  15.688388  236367600.0  \n",
       "2013-09-06  15.788802  15.818578  15.519869  15.781833  359525600.0  \n",
       "2013-09-09  15.996600  16.089095  15.948451  16.033661  340687200.0  "
      ],
      "text/html": "<div>\n<style scoped>\n    .dataframe tbody tr th:only-of-type {\n        vertical-align: middle;\n    }\n\n    .dataframe tbody tr th {\n        vertical-align: top;\n    }\n\n    .dataframe thead th {\n        text-align: right;\n    }\n</style>\n<table border=\"1\" class=\"dataframe\">\n  <thead>\n    <tr style=\"text-align: right;\">\n      <th></th>\n      <th>Open</th>\n      <th>High</th>\n      <th>Low</th>\n      <th>Close</th>\n      <th>Volume</th>\n      <th>Dividend</th>\n      <th>Split</th>\n      <th>Adj_Open</th>\n      <th>Adj_High</th>\n      <th>Adj_Low</th>\n      <th>Adj_Close</th>\n      <th>Adj_Volume</th>\n    </tr>\n    <tr>\n      <th>Date</th>\n      <th></th>\n      <th></th>\n      <th></th>\n      <th></th>\n      <th></th>\n      <th></th>\n      <th></th>\n      <th></th>\n      <th></th>\n      <th></th>\n      <th></th>\n      <th></th>\n    </tr>\n  </thead>\n  <tbody>\n    <tr>\n      <th>2013-09-03</th>\n      <td>493.10</td>\n      <td>500.60</td>\n      <td>487.35</td>\n      <td>488.580</td>\n      <td>11854600.0</td>\n      <td>0.0</td>\n      <td>1.0</td>\n      <td>15.619650</td>\n      <td>15.857223</td>\n      <td>15.437510</td>\n      <td>15.476472</td>\n      <td>331928800.0</td>\n    </tr>\n    <tr>\n      <th>2013-09-04</th>\n      <td>499.56</td>\n      <td>502.24</td>\n      <td>496.28</td>\n      <td>498.691</td>\n      <td>12322600.0</td>\n      <td>0.0</td>\n      <td>1.0</td>\n      <td>15.824280</td>\n      <td>15.909173</td>\n      <td>15.720381</td>\n      <td>15.796753</td>\n      <td>345032800.0</td>\n    </tr>\n    <tr>\n      <th>2013-09-05</th>\n      <td>500.25</td>\n      <td>500.68</td>\n      <td>493.64</td>\n      <td>495.270</td>\n      <td>8441700.0</td>\n      <td>0.0</td>\n      <td>1.0</td>\n      <td>15.846136</td>\n      <td>15.859757</td>\n      <td>15.636755</td>\n      <td>15.688388</td>\n      <td>236367600.0</td>\n    </tr>\n    <tr>\n      <th>2013-09-06</th>\n      <td>498.44</td>\n      <td>499.38</td>\n      <td>489.95</td>\n      <td>498.220</td>\n      <td>12840200.0</td>\n      <td>0.0</td>\n      <td>1.0</td>\n      <td>15.788802</td>\n      <td>15.818578</td>\n      <td>15.519869</td>\n      <td>15.781833</td>\n      <td>359525600.0</td>\n    </tr>\n    <tr>\n      <th>2013-09-09</th>\n      <td>505.00</td>\n      <td>507.92</td>\n      <td>503.48</td>\n      <td>506.170</td>\n      <td>12167400.0</td>\n      <td>0.0</td>\n      <td>1.0</td>\n      <td>15.996600</td>\n      <td>16.089095</td>\n      <td>15.948451</td>\n      <td>16.033661</td>\n      <td>340687200.0</td>\n    </tr>\n  </tbody>\n</table>\n</div>"
     },
     "metadata": {},
     "execution_count": 9
    }
   ],
   "source": [
    "apple.head()"
   ]
  },
  {
   "cell_type": "code",
   "execution_count": 10,
   "metadata": {},
   "outputs": [],
   "source": [
    "apple['HL_PCT'] = (apple['Adj_High']- apple['Adj_Low'])/apple['Adj_Close'] * 100\n",
    "apple['PCT_Change'] = (apple['Adj_Close']- apple['Adj_Open'])/apple['Adj_Open'] * 100"
   ]
  },
  {
   "cell_type": "code",
   "execution_count": 11,
   "metadata": {},
   "outputs": [
    {
     "output_type": "execute_result",
     "data": {
      "text/plain": [
       "              Open    High     Low    Close      Volume  Dividend  Split  \\\n",
       "Date                                                                       \n",
       "2013-09-03  493.10  500.60  487.35  488.580  11854600.0       0.0    1.0   \n",
       "2013-09-04  499.56  502.24  496.28  498.691  12322600.0       0.0    1.0   \n",
       "2013-09-05  500.25  500.68  493.64  495.270   8441700.0       0.0    1.0   \n",
       "2013-09-06  498.44  499.38  489.95  498.220  12840200.0       0.0    1.0   \n",
       "2013-09-09  505.00  507.92  503.48  506.170  12167400.0       0.0    1.0   \n",
       "\n",
       "             Adj_Open   Adj_High    Adj_Low  Adj_Close   Adj_Volume    HL_PCT  \\\n",
       "Date                                                                            \n",
       "2013-09-03  15.619650  15.857223  15.437510  15.476472  331928800.0  2.711941   \n",
       "2013-09-04  15.824280  15.909173  15.720381  15.796753  345032800.0  1.195129   \n",
       "2013-09-05  15.846136  15.859757  15.636755  15.688388  236367600.0  1.421447   \n",
       "2013-09-06  15.788802  15.818578  15.519869  15.781833  359525600.0  1.892738   \n",
       "2013-09-09  15.996600  16.089095  15.948451  16.033661  340687200.0  0.877176   \n",
       "\n",
       "            PCT_Change  \n",
       "Date                    \n",
       "2013-09-03   -0.916650  \n",
       "2013-09-04   -0.173953  \n",
       "2013-09-05   -0.995502  \n",
       "2013-09-06   -0.044138  \n",
       "2013-09-09    0.231683  "
      ],
      "text/html": "<div>\n<style scoped>\n    .dataframe tbody tr th:only-of-type {\n        vertical-align: middle;\n    }\n\n    .dataframe tbody tr th {\n        vertical-align: top;\n    }\n\n    .dataframe thead th {\n        text-align: right;\n    }\n</style>\n<table border=\"1\" class=\"dataframe\">\n  <thead>\n    <tr style=\"text-align: right;\">\n      <th></th>\n      <th>Open</th>\n      <th>High</th>\n      <th>Low</th>\n      <th>Close</th>\n      <th>Volume</th>\n      <th>Dividend</th>\n      <th>Split</th>\n      <th>Adj_Open</th>\n      <th>Adj_High</th>\n      <th>Adj_Low</th>\n      <th>Adj_Close</th>\n      <th>Adj_Volume</th>\n      <th>HL_PCT</th>\n      <th>PCT_Change</th>\n    </tr>\n    <tr>\n      <th>Date</th>\n      <th></th>\n      <th></th>\n      <th></th>\n      <th></th>\n      <th></th>\n      <th></th>\n      <th></th>\n      <th></th>\n      <th></th>\n      <th></th>\n      <th></th>\n      <th></th>\n      <th></th>\n      <th></th>\n    </tr>\n  </thead>\n  <tbody>\n    <tr>\n      <th>2013-09-03</th>\n      <td>493.10</td>\n      <td>500.60</td>\n      <td>487.35</td>\n      <td>488.580</td>\n      <td>11854600.0</td>\n      <td>0.0</td>\n      <td>1.0</td>\n      <td>15.619650</td>\n      <td>15.857223</td>\n      <td>15.437510</td>\n      <td>15.476472</td>\n      <td>331928800.0</td>\n      <td>2.711941</td>\n      <td>-0.916650</td>\n    </tr>\n    <tr>\n      <th>2013-09-04</th>\n      <td>499.56</td>\n      <td>502.24</td>\n      <td>496.28</td>\n      <td>498.691</td>\n      <td>12322600.0</td>\n      <td>0.0</td>\n      <td>1.0</td>\n      <td>15.824280</td>\n      <td>15.909173</td>\n      <td>15.720381</td>\n      <td>15.796753</td>\n      <td>345032800.0</td>\n      <td>1.195129</td>\n      <td>-0.173953</td>\n    </tr>\n    <tr>\n      <th>2013-09-05</th>\n      <td>500.25</td>\n      <td>500.68</td>\n      <td>493.64</td>\n      <td>495.270</td>\n      <td>8441700.0</td>\n      <td>0.0</td>\n      <td>1.0</td>\n      <td>15.846136</td>\n      <td>15.859757</td>\n      <td>15.636755</td>\n      <td>15.688388</td>\n      <td>236367600.0</td>\n      <td>1.421447</td>\n      <td>-0.995502</td>\n    </tr>\n    <tr>\n      <th>2013-09-06</th>\n      <td>498.44</td>\n      <td>499.38</td>\n      <td>489.95</td>\n      <td>498.220</td>\n      <td>12840200.0</td>\n      <td>0.0</td>\n      <td>1.0</td>\n      <td>15.788802</td>\n      <td>15.818578</td>\n      <td>15.519869</td>\n      <td>15.781833</td>\n      <td>359525600.0</td>\n      <td>1.892738</td>\n      <td>-0.044138</td>\n    </tr>\n    <tr>\n      <th>2013-09-09</th>\n      <td>505.00</td>\n      <td>507.92</td>\n      <td>503.48</td>\n      <td>506.170</td>\n      <td>12167400.0</td>\n      <td>0.0</td>\n      <td>1.0</td>\n      <td>15.996600</td>\n      <td>16.089095</td>\n      <td>15.948451</td>\n      <td>16.033661</td>\n      <td>340687200.0</td>\n      <td>0.877176</td>\n      <td>0.231683</td>\n    </tr>\n  </tbody>\n</table>\n</div>"
     },
     "metadata": {},
     "execution_count": 11
    }
   ],
   "source": [
    "apple.head()"
   ]
  },
  {
   "cell_type": "code",
   "execution_count": 24,
   "metadata": {},
   "outputs": [
    {
     "output_type": "execute_result",
     "data": {
      "text/plain": [
       "Open          0\n",
       "High          0\n",
       "Low           0\n",
       "Close         0\n",
       "Volume        0\n",
       "Dividend      0\n",
       "Split         0\n",
       "Adj_Open      0\n",
       "Adj_High      0\n",
       "Adj_Low       0\n",
       "Adj_Close     0\n",
       "Adj_Volume    0\n",
       "HL_PCT        0\n",
       "PCT_Change    0\n",
       "dtype: int64"
      ]
     },
     "metadata": {},
     "execution_count": 24
    }
   ],
   "source": [
    "apple.isna().sum()"
   ]
  },
  {
   "cell_type": "code",
   "execution_count": 16,
   "metadata": {},
   "outputs": [],
   "source": [
    "df = apple[['Adj_Close', 'PCT_Change', 'HL_PCT', 'Adj_Volume']]"
   ]
  },
  {
   "cell_type": "code",
   "execution_count": 17,
   "metadata": {},
   "outputs": [
    {
     "output_type": "execute_result",
     "data": {
      "text/plain": [
       "            Adj_Close  PCT_Change    HL_PCT   Adj_Volume\n",
       "Date                                                    \n",
       "2013-09-03  15.476472   -0.916650  2.711941  331928800.0\n",
       "2013-09-04  15.796753   -0.173953  1.195129  345032800.0\n",
       "2013-09-05  15.688388   -0.995502  1.421447  236367600.0\n",
       "2013-09-06  15.781833   -0.044138  1.892738  359525600.0\n",
       "2013-09-09  16.033661    0.231683  0.877176  340687200.0"
      ],
      "text/html": "<div>\n<style scoped>\n    .dataframe tbody tr th:only-of-type {\n        vertical-align: middle;\n    }\n\n    .dataframe tbody tr th {\n        vertical-align: top;\n    }\n\n    .dataframe thead th {\n        text-align: right;\n    }\n</style>\n<table border=\"1\" class=\"dataframe\">\n  <thead>\n    <tr style=\"text-align: right;\">\n      <th></th>\n      <th>Adj_Close</th>\n      <th>PCT_Change</th>\n      <th>HL_PCT</th>\n      <th>Adj_Volume</th>\n    </tr>\n    <tr>\n      <th>Date</th>\n      <th></th>\n      <th></th>\n      <th></th>\n      <th></th>\n    </tr>\n  </thead>\n  <tbody>\n    <tr>\n      <th>2013-09-03</th>\n      <td>15.476472</td>\n      <td>-0.916650</td>\n      <td>2.711941</td>\n      <td>331928800.0</td>\n    </tr>\n    <tr>\n      <th>2013-09-04</th>\n      <td>15.796753</td>\n      <td>-0.173953</td>\n      <td>1.195129</td>\n      <td>345032800.0</td>\n    </tr>\n    <tr>\n      <th>2013-09-05</th>\n      <td>15.688388</td>\n      <td>-0.995502</td>\n      <td>1.421447</td>\n      <td>236367600.0</td>\n    </tr>\n    <tr>\n      <th>2013-09-06</th>\n      <td>15.781833</td>\n      <td>-0.044138</td>\n      <td>1.892738</td>\n      <td>359525600.0</td>\n    </tr>\n    <tr>\n      <th>2013-09-09</th>\n      <td>16.033661</td>\n      <td>0.231683</td>\n      <td>0.877176</td>\n      <td>340687200.0</td>\n    </tr>\n  </tbody>\n</table>\n</div>"
     },
     "metadata": {},
     "execution_count": 17
    }
   ],
   "source": [
    "df.head()"
   ]
  },
  {
   "cell_type": "code",
   "execution_count": 18,
   "metadata": {},
   "outputs": [
    {
     "output_type": "execute_result",
     "data": {
      "text/plain": [
       "Adj_Close     0\n",
       "PCT_Change    0\n",
       "HL_PCT        0\n",
       "Adj_Volume    0\n",
       "dtype: int64"
      ]
     },
     "metadata": {},
     "execution_count": 18
    }
   ],
   "source": [
    "df.isna().sum()"
   ]
  },
  {
   "cell_type": "code",
   "execution_count": 25,
   "metadata": {},
   "outputs": [],
   "source": [
    "df['Label'] = df.Adj_Close.shift(-1)"
   ]
  },
  {
   "cell_type": "code",
   "execution_count": 27,
   "metadata": {},
   "outputs": [
    {
     "output_type": "execute_result",
     "data": {
      "text/plain": [
       "            Adj_Close  PCT_Change    HL_PCT   Adj_Volume      Label\n",
       "Date                                                               \n",
       "2017-12-21  42.101646    0.482287  1.097080   83799584.0  42.101646\n",
       "2017-12-22  42.101646    0.188917  0.527970   65397776.0  41.033528\n",
       "2017-12-26  41.033528   -0.134660  1.050009  132742144.0  41.040745\n",
       "2017-12-27  41.040745    0.293945  0.627198   85992852.0  41.156217\n",
       "2017-12-28  41.156217    0.046784  0.800795   65920748.0        NaN"
      ],
      "text/html": "<div>\n<style scoped>\n    .dataframe tbody tr th:only-of-type {\n        vertical-align: middle;\n    }\n\n    .dataframe tbody tr th {\n        vertical-align: top;\n    }\n\n    .dataframe thead th {\n        text-align: right;\n    }\n</style>\n<table border=\"1\" class=\"dataframe\">\n  <thead>\n    <tr style=\"text-align: right;\">\n      <th></th>\n      <th>Adj_Close</th>\n      <th>PCT_Change</th>\n      <th>HL_PCT</th>\n      <th>Adj_Volume</th>\n      <th>Label</th>\n    </tr>\n    <tr>\n      <th>Date</th>\n      <th></th>\n      <th></th>\n      <th></th>\n      <th></th>\n      <th></th>\n    </tr>\n  </thead>\n  <tbody>\n    <tr>\n      <th>2017-12-21</th>\n      <td>42.101646</td>\n      <td>0.482287</td>\n      <td>1.097080</td>\n      <td>83799584.0</td>\n      <td>42.101646</td>\n    </tr>\n    <tr>\n      <th>2017-12-22</th>\n      <td>42.101646</td>\n      <td>0.188917</td>\n      <td>0.527970</td>\n      <td>65397776.0</td>\n      <td>41.033528</td>\n    </tr>\n    <tr>\n      <th>2017-12-26</th>\n      <td>41.033528</td>\n      <td>-0.134660</td>\n      <td>1.050009</td>\n      <td>132742144.0</td>\n      <td>41.040745</td>\n    </tr>\n    <tr>\n      <th>2017-12-27</th>\n      <td>41.040745</td>\n      <td>0.293945</td>\n      <td>0.627198</td>\n      <td>85992852.0</td>\n      <td>41.156217</td>\n    </tr>\n    <tr>\n      <th>2017-12-28</th>\n      <td>41.156217</td>\n      <td>0.046784</td>\n      <td>0.800795</td>\n      <td>65920748.0</td>\n      <td>NaN</td>\n    </tr>\n  </tbody>\n</table>\n</div>"
     },
     "metadata": {},
     "execution_count": 27
    }
   ],
   "source": [
    "df.tail()"
   ]
  },
  {
   "cell_type": "code",
   "execution_count": 29,
   "metadata": {},
   "outputs": [],
   "source": [
    "df.dropna(inplace=True)"
   ]
  },
  {
   "cell_type": "code",
   "execution_count": 30,
   "metadata": {},
   "outputs": [
    {
     "output_type": "execute_result",
     "data": {
      "text/plain": [
       "            Adj_Close  PCT_Change    HL_PCT   Adj_Volume      Label\n",
       "Date                                                               \n",
       "2017-12-20  41.942872   -0.297364  1.244623   93902596.0  42.101646\n",
       "2017-12-21  42.101646    0.482287  1.097080   83799584.0  42.101646\n",
       "2017-12-22  42.101646    0.188917  0.527970   65397776.0  41.033528\n",
       "2017-12-26  41.033528   -0.134660  1.050009  132742144.0  41.040745\n",
       "2017-12-27  41.040745    0.293945  0.627198   85992852.0  41.156217"
      ],
      "text/html": "<div>\n<style scoped>\n    .dataframe tbody tr th:only-of-type {\n        vertical-align: middle;\n    }\n\n    .dataframe tbody tr th {\n        vertical-align: top;\n    }\n\n    .dataframe thead th {\n        text-align: right;\n    }\n</style>\n<table border=\"1\" class=\"dataframe\">\n  <thead>\n    <tr style=\"text-align: right;\">\n      <th></th>\n      <th>Adj_Close</th>\n      <th>PCT_Change</th>\n      <th>HL_PCT</th>\n      <th>Adj_Volume</th>\n      <th>Label</th>\n    </tr>\n    <tr>\n      <th>Date</th>\n      <th></th>\n      <th></th>\n      <th></th>\n      <th></th>\n      <th></th>\n    </tr>\n  </thead>\n  <tbody>\n    <tr>\n      <th>2017-12-20</th>\n      <td>41.942872</td>\n      <td>-0.297364</td>\n      <td>1.244623</td>\n      <td>93902596.0</td>\n      <td>42.101646</td>\n    </tr>\n    <tr>\n      <th>2017-12-21</th>\n      <td>42.101646</td>\n      <td>0.482287</td>\n      <td>1.097080</td>\n      <td>83799584.0</td>\n      <td>42.101646</td>\n    </tr>\n    <tr>\n      <th>2017-12-22</th>\n      <td>42.101646</td>\n      <td>0.188917</td>\n      <td>0.527970</td>\n      <td>65397776.0</td>\n      <td>41.033528</td>\n    </tr>\n    <tr>\n      <th>2017-12-26</th>\n      <td>41.033528</td>\n      <td>-0.134660</td>\n      <td>1.050009</td>\n      <td>132742144.0</td>\n      <td>41.040745</td>\n    </tr>\n    <tr>\n      <th>2017-12-27</th>\n      <td>41.040745</td>\n      <td>0.293945</td>\n      <td>0.627198</td>\n      <td>85992852.0</td>\n      <td>41.156217</td>\n    </tr>\n  </tbody>\n</table>\n</div>"
     },
     "metadata": {},
     "execution_count": 30
    }
   ],
   "source": [
    "df.tail()"
   ]
  },
  {
   "cell_type": "code",
   "execution_count": 38,
   "metadata": {},
   "outputs": [],
   "source": [
    "X = np.array(df.drop('Label', axis=1))\n",
    "Y = np.array(df['Label'])"
   ]
  },
  {
   "cell_type": "code",
   "execution_count": 37,
   "metadata": {},
   "outputs": [
    {
     "output_type": "execute_result",
     "data": {
      "text/plain": [
       "array([[ 1.54764725e+01, -9.16649767e-01,  2.71194073e+00,\n",
       "         3.31928800e+08],\n",
       "       [ 1.57967529e+01, -1.73953079e-01,  1.19512885e+00,\n",
       "         3.45032800e+08],\n",
       "       [ 1.56883878e+01, -9.95502249e-01,  1.42144689e+00,\n",
       "         2.36367600e+08],\n",
       "       ...,\n",
       "       [ 4.21016459e+01,  1.88916877e-01,  5.27969830e-01,\n",
       "         6.53977760e+07],\n",
       "       [ 4.10335280e+01, -1.34660422e-01,  1.05000879e+00,\n",
       "         1.32742144e+08],\n",
       "       [ 4.10407450e+01,  2.93944738e-01,  6.27198124e-01,\n",
       "         8.59928520e+07]])"
      ]
     },
     "metadata": {},
     "execution_count": 37
    }
   ],
   "source": [
    "X"
   ]
  },
  {
   "cell_type": "code",
   "execution_count": 39,
   "metadata": {},
   "outputs": [],
   "source": [
    "from sklearn.linear_model import LinearRegression \n",
    "from sklearn.model_selection import train_test_split"
   ]
  },
  {
   "cell_type": "code",
   "execution_count": 40,
   "metadata": {},
   "outputs": [],
   "source": [
    "X_train, X_test, Y_train, Y_test = train_test_split(X,Y, test_size=0.2)"
   ]
  },
  {
   "cell_type": "code",
   "execution_count": 46,
   "metadata": {},
   "outputs": [],
   "source": [
    "lr = LinearRegression()\n",
    "lr.fit(X_train, Y_train)\n",
    "X_pred = lr.predict(X_test)"
   ]
  },
  {
   "cell_type": "code",
   "execution_count": 42,
   "metadata": {},
   "outputs": [],
   "source": [
    "from sklearn.metrics import mean_squared_error"
   ]
  },
  {
   "cell_type": "code",
   "execution_count": 47,
   "metadata": {},
   "outputs": [
    {
     "output_type": "execute_result",
     "data": {
      "text/plain": [
       "0.11029658414890575"
      ]
     },
     "metadata": {},
     "execution_count": 47
    }
   ],
   "source": [
    "mean_squared_error(Y_test, pred)"
   ]
  },
  {
   "cell_type": "code",
   "execution_count": null,
   "metadata": {},
   "outputs": [],
   "source": []
  }
 ]
}